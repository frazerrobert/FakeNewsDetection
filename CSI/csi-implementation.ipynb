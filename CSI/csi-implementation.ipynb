{
 "cells": [
  {
   "cell_type": "code",
   "outputs": [],
   "source": [
    "import pandas as pd"
   ],
   "metadata": {
    "collapsed": false,
    "ExecuteTime": {
     "end_time": "2024-11-17T23:52:24.460801Z",
     "start_time": "2024-11-17T23:52:24.451073Z"
    }
   },
   "id": "907eb7ef7ce2fde4",
   "execution_count": 5
  },
  {
   "cell_type": "markdown",
   "source": [],
   "metadata": {
    "collapsed": false
   },
   "id": "69aac1d9d1467fbd"
  },
  {
   "cell_type": "code",
   "outputs": [],
   "source": [
    "# posts_df\n",
    "# Data columns (total 9 columns):\n",
    "# #   Column            Dtype \n",
    "# ---  ------            -----\n",
    "# 0   post_id           object\n",
    "# 1   thread_id         object\n",
    "# 2   user_id           int64\n",
    "# 3   text              object\n",
    "# 4   reposts_count     int64\n",
    "# 5   likes_count       int64\n",
    "# 6   comments_count    int64\n",
    "# 7   parent_thread_id  object\n",
    "# 8   timestamp         int64\n",
    "\n",
    "\n",
    "# unique_users_df\n",
    "# Data columns (total 7 columns):\n",
    "# #   Column              Dtype \n",
    "# ---  ------              -----\n",
    "# 0   user_id             int64\n",
    "# 1   username            object\n",
    "# 2   friends_count       int64\n",
    "# 3   followers_count     int64\n",
    "# 4   bi_followers_count  int64\n",
    "# 5   user_created_at     int64\n",
    "# 6   last_activity       int64 \n",
    "users_df = pd.read_csv(\"./dataset/weibo_users_df.csv\")\n",
    "\n",
    "# labelled_posts_df\n",
    "# Data columns (total 11 columns):\n",
    "# #   Column            Non-Null Count  Dtype \n",
    "# ---  ------            --------------  -----\n",
    "# 0   post_id           4718 non-null   object\n",
    "# 1   label             4718 non-null   object\n",
    "# 2   children          4718 non-null   object\n",
    "# 3   thread_id         4718 non-null   object\n",
    "# 4   user_id           4718 non-null   int64\n",
    "# 5   text              4718 non-null   object\n",
    "# 6   reposts_count     4718 non-null   int64\n",
    "# 7   likes_count       4718 non-null   int64\n",
    "# 8   comments_count    4718 non-null   int64\n",
    "# 9   parent_thread_id  54 non-null     object\n",
    "# 10  timestamp         4718 non-null   int64 \n",
    "posts_df = pd.read_csv(\"./dataset/weibo_posts_merged_df.csv\")\n"
   ],
   "metadata": {
    "collapsed": false,
    "ExecuteTime": {
     "end_time": "2024-11-17T23:52:26.882155Z",
     "start_time": "2024-11-17T23:52:24.479381Z"
    }
   },
   "id": "43106a292c0131e7",
   "execution_count": 6
  },
  {
   "cell_type": "code",
   "outputs": [],
   "source": [
    "import re\n",
    "import jieba\n",
    "\n",
    "def clean_text(text):\n",
    "    # Remove non-Chinese characters (keep Chinese, numbers, and basic punctuation)\n",
    "    text = re.sub(r\"[^\\u4e00-\\u9fffA-Za-z0-9,，.!?！？]\", \"\", text)\n",
    "    # Normalize spaces\n",
    "    text = re.sub(r\"\\s+\", \" \", text).strip()\n",
    "    return text\n",
    "\n",
    "def segment_text(text):\n",
    "    # Segment text using jieba\n",
    "    words = jieba.lcut(text)\n",
    "    # Join words back with spaces (useful for embeddings)\n",
    "    return ' '.join(words)\n",
    "\n",
    "# Load a list of Chinese stop words\n",
    "with open('./dataset/cn_stopwords.txt', encoding='utf-8') as f:\n",
    "    stopwords = set(f.read().splitlines())\n",
    "\n",
    "def remove_stopwords(text):\n",
    "    words = text.split()\n",
    "    filtered_words = [word for word in words if word not in stopwords]\n",
    "    return ' '.join(filtered_words)"
   ],
   "metadata": {
    "collapsed": false,
    "ExecuteTime": {
     "end_time": "2024-11-17T23:52:26.887325Z",
     "start_time": "2024-11-17T23:52:26.883603Z"
    }
   },
   "id": "58a2a96202ebda2",
   "execution_count": 7
  },
  {
   "cell_type": "code",
   "outputs": [
    {
     "name": "stderr",
     "output_type": "stream",
     "text": [
      "Building prefix dict from the default dictionary ...\n",
      "Loading model from cache /var/folders/m_/927vvx8x4ysf8rx5tgc4yjmr0000gn/T/jieba.cache\n",
      "Loading model cost 0.283 seconds.\n",
      "Prefix dict has been built successfully.\n"
     ]
    }
   ],
   "source": [
    "posts_df['cleaned_text'] = posts_df['text'].fillna(\"\").apply(clean_text)\n",
    "posts_df['segmented_text'] = posts_df['cleaned_text'].apply(segment_text)\n",
    "posts_df['final_text'] = posts_df['segmented_text'].apply(remove_stopwords)"
   ],
   "metadata": {
    "collapsed": false,
    "ExecuteTime": {
     "end_time": "2024-11-17T23:52:27.863936Z",
     "start_time": "2024-11-17T23:52:26.887812Z"
    }
   },
   "id": "c3f4348b001e4b25",
   "execution_count": 8
  },
  {
   "cell_type": "code",
   "outputs": [],
   "source": [
    "from gensim.models import Doc2Vec\n",
    "from gensim.models.doc2vec import TaggedDocument\n",
    "\n",
    "# Prepare tagged documents\n",
    "documents = [TaggedDocument(words=text.split(), tags=[i]) for i, text in enumerate(posts_df['final_text'])]\n",
    "# Train the Doc2Vec model\n",
    "model = Doc2Vec(documents, vector_size=100, window=5, min_count=2, workers=4)\n",
    "\n",
    "# Add embeddings to the DataFrame\n",
    "posts_df['text_embeddings'] = posts_df['final_text'].apply(lambda x: model.infer_vector(x.split()))\n"
   ],
   "metadata": {
    "collapsed": false,
    "ExecuteTime": {
     "end_time": "2024-11-17T23:52:31.118988Z",
     "start_time": "2024-11-17T23:52:27.865198Z"
    }
   },
   "id": "3298c0d941e2126d",
   "execution_count": 9
  },
  {
   "cell_type": "code",
   "outputs": [],
   "source": [
    "from sklearn.preprocessing import MinMaxScaler\n",
    "import pandas as pd\n",
    "\n",
    "# Normalize engagement counts\n",
    "scaler = MinMaxScaler()\n",
    "posts_df[['reposts_count', 'likes_count', 'comments_count']] = scaler.fit_transform(\n",
    "    posts_df[['reposts_count', 'likes_count', 'comments_count']]\n",
    ")\n",
    "\n",
    "# Extract time features\n",
    "posts_df['hour'] = pd.to_datetime(posts_df['timestamp'], unit='s').dt.hour\n",
    "posts_df['day'] = pd.to_datetime(posts_df['timestamp'], unit='s').dt.day\n",
    "posts_df['month'] = pd.to_datetime(posts_df['timestamp'], unit='s').dt.month"
   ],
   "metadata": {
    "collapsed": false,
    "ExecuteTime": {
     "end_time": "2024-11-17T23:52:31.198305Z",
     "start_time": "2024-11-17T23:52:31.119586Z"
    }
   },
   "id": "125b155b56cda3a8",
   "execution_count": 10
  },
  {
   "cell_type": "code",
   "outputs": [],
   "source": [
    "users_df[['friends_count', 'followers_count', 'bi_followers_count']] = scaler.fit_transform(\n",
    "    users_df[['friends_count', 'followers_count', 'bi_followers_count']]\n",
    ")\n"
   ],
   "metadata": {
    "collapsed": false,
    "ExecuteTime": {
     "end_time": "2024-11-17T23:52:31.262066Z",
     "start_time": "2024-11-17T23:52:31.198867Z"
    }
   },
   "id": "b651a98c4e33eb89",
   "execution_count": 11
  },
  {
   "cell_type": "code",
   "outputs": [],
   "source": [
    "merged_df = posts_df.merge(users_df, on='user_id', how='left')\n"
   ],
   "metadata": {
    "collapsed": false,
    "ExecuteTime": {
     "end_time": "2024-11-17T23:52:31.556860Z",
     "start_time": "2024-11-17T23:52:31.262639Z"
    }
   },
   "id": "1eb58f6d1943232f",
   "execution_count": 12
  },
  {
   "cell_type": "code",
   "outputs": [],
   "source": [
    "from sklearn.model_selection import train_test_split\n",
    "import numpy as np\n",
    "\n",
    "X_text = np.stack(merged_df['text_embeddings'].values)\n",
    "X_user = merged_df[['friends_count', 'followers_count', 'bi_followers_count']].values\n",
    "y = (merged_df['label']).astype(int).values  # Convert labels to binary\n",
    "\n",
    "# Split data\n",
    "X_text_train, X_text_test, X_user_train, X_user_test, y_train, y_test = train_test_split(\n",
    "    X_text, X_user, y, test_size=0.2, random_state=42\n",
    ")\n"
   ],
   "metadata": {
    "collapsed": false,
    "ExecuteTime": {
     "end_time": "2024-11-17T23:52:31.606735Z",
     "start_time": "2024-11-17T23:52:31.557435Z"
    }
   },
   "id": "dfee93a7175d8421",
   "execution_count": 13
  },
  {
   "cell_type": "code",
   "outputs": [],
   "source": [
    "from torch.utils.data import Dataset, DataLoader\n",
    "\n",
    "# Custom Dataset class\n",
    "class CSIDataset(Dataset):\n",
    "    def __init__(self, text_data, user_data, labels):\n",
    "        self.text_data = text_data\n",
    "        self.user_data = user_data\n",
    "        self.labels = labels\n",
    "\n",
    "    def __len__(self):\n",
    "        return len(self.labels)\n",
    "\n",
    "    def __getitem__(self, idx):\n",
    "        text = torch.tensor(self.text_data[idx], dtype=torch.float32)\n",
    "        user = torch.tensor(self.user_data[idx], dtype=torch.float32)\n",
    "        label = torch.tensor(self.labels[idx], dtype=torch.float32)\n",
    "        return text, user, label\n",
    "\n",
    "# Create DataLoaders\n",
    "train_dataset = CSIDataset(X_text_train, X_user_train, y_train)\n",
    "test_dataset = CSIDataset(X_text_test, X_user_test, y_test)\n",
    "\n",
    "train_loader = DataLoader(train_dataset, batch_size=32, shuffle=True)\n",
    "test_loader = DataLoader(test_dataset, batch_size=32, shuffle=False)\n"
   ],
   "metadata": {
    "collapsed": false,
    "ExecuteTime": {
     "end_time": "2024-11-17T23:52:32.264160Z",
     "start_time": "2024-11-17T23:52:31.607271Z"
    }
   },
   "id": "e8decc02954ce3b5",
   "execution_count": 14
  },
  {
   "cell_type": "code",
   "outputs": [
    {
     "name": "stderr",
     "output_type": "stream",
     "text": [
      "Training Progress: 100%|██████████| 135/135 [00:18<00:00,  7.25epoch/s]\n"
     ]
    }
   ],
   "source": [
    "# change the model class to use other models in model.py\n",
    "from model import CSIModel\n",
    "\n",
    "from tqdm import tqdm\n",
    "import torch.nn as nn\n",
    "import torch.optim as optim\n",
    "import torch\n",
    "import matplotlib.pyplot as plt\n",
    "\n",
    "# Hyperparameters\n",
    "text_embedding_dim = X_text.shape[1]\n",
    "user_feature_dim = X_user.shape[1]\n",
    "lstm_hidden_dim = 32\n",
    "fc_hidden_dim = 16\n",
    "learning_rate = 0.001\n",
    "num_epochs = 135\n",
    "\n",
    "# Initialize the model\n",
    "model = CSIModel(text_embedding_dim, user_feature_dim, lstm_hidden_dim, fc_hidden_dim)\n",
    "\n",
    "# Loss function and optimizer\n",
    "criterion = nn.BCELoss()  # Binary Cross-Entropy Loss\n",
    "optimizer = optim.Adam(model.parameters(), lr=0.001, weight_decay=1e-5)\n",
    "\n",
    "# # Training loop\n",
    "\n",
    "\n",
    "training_losses = []\n",
    "validation_losses = []\n",
    "\n",
    "for epoch in tqdm(range(1, num_epochs + 1), desc=\"Training Progress\", unit=\"epoch\"):\n",
    "    model.train()\n",
    "    total_train_loss = 0\n",
    "\n",
    "    # Training Loop\n",
    "    for text_batch, user_batch, labels_batch in train_loader:\n",
    "        text_batch = text_batch.unsqueeze(1)  # Add sequence dimension\n",
    "        optimizer.zero_grad()\n",
    "\n",
    "        # Forward pass\n",
    "        outputs = model(text_batch, user_batch).squeeze()\n",
    "        loss = criterion(outputs, labels_batch)\n",
    "\n",
    "        # Backward pass and optimization\n",
    "        loss.backward()\n",
    "        optimizer.step()\n",
    "\n",
    "        total_train_loss += loss.item()\n",
    "\n",
    "    # Record average training loss\n",
    "    average_train_loss = total_train_loss / len(train_loader)\n",
    "    training_losses.append(average_train_loss)\n",
    "\n",
    "    # Validation Loop\n",
    "    model.eval()\n",
    "    total_val_loss = 0\n",
    "    with torch.no_grad():\n",
    "        for text_batch, user_batch, labels_batch in test_loader:\n",
    "            text_batch = text_batch.unsqueeze(1)\n",
    "            outputs = model(text_batch, user_batch).squeeze()\n",
    "            val_loss = criterion(outputs, labels_batch)\n",
    "            total_val_loss += val_loss.item()\n",
    "\n",
    "    # Record average validation loss\n",
    "    average_val_loss = total_val_loss / len(test_loader)\n",
    "    validation_losses.append(average_val_loss)\n",
    "\n",
    "    # Print losses every 50 epochs\n",
    "    if epoch % 200 == 0:\n",
    "        print(f\"Epoch {epoch}/{num_epochs} - Train Loss: {average_train_loss:.4f}, Val Loss: {average_val_loss:.4f}\")"
   ],
   "metadata": {
    "collapsed": false,
    "ExecuteTime": {
     "end_time": "2024-11-17T23:52:51.663386Z",
     "start_time": "2024-11-17T23:52:32.265759Z"
    }
   },
   "id": "98dcbaf279a8248f",
   "execution_count": 15
  },
  {
   "cell_type": "code",
   "outputs": [
    {
     "data": {
      "text/plain": "<Figure size 1000x600 with 1 Axes>",
      "image/png": "[encoded data removed]"
     },
     "metadata": {},
     "output_type": "display_data"
    }
   ],
   "source": [
    "# Plot losses\n",
    "import matplotlib.pyplot as plt\n",
    "\n",
    "plt.figure(figsize=(10, 6))\n",
    "plt.plot(range(1, num_epochs + 1), training_losses, label='Training Loss', color='blue')\n",
    "plt.plot(range(1, num_epochs + 1), validation_losses, label='Validation Loss', color='orange')\n",
    "plt.xlabel('Epochs')\n",
    "plt.ylabel('Loss')\n",
    "plt.title('Training and Validation Loss Over Epochs')\n",
    "plt.legend()\n",
    "plt.grid(True)\n",
    "\n",
    "# Save the plot to a file\n",
    "plt.savefig('training_validation_loss.png', dpi=300, bbox_inches='tight')\n",
    "\n",
    "# Show the plot\n",
    "plt.show()\n"
   ],
   "metadata": {
    "collapsed": false,
    "ExecuteTime": {
     "end_time": "2024-11-17T23:56:39.591551Z",
     "start_time": "2024-11-17T23:56:39.305959Z"
    }
   },
   "id": "9c2f624a820509c",
   "execution_count": 23
  },
  {
   "cell_type": "code",
   "outputs": [
    {
     "name": "stdout",
     "output_type": "stream",
     "text": [
      "Test Loss: 0.2933\n",
      "Accuracy: 0.8782\n",
      "Precision: 0.8485\n",
      "Recall: 0.9130\n",
      "F1 Score: 0.8796\n"
     ]
    }
   ],
   "source": [
    "from sklearn.metrics import accuracy_score, precision_score, recall_score, f1_score\n",
    "\n",
    "model.eval()\n",
    "all_preds = []\n",
    "all_labels = []\n",
    "test_loss = 0.0\n",
    "\n",
    "with torch.no_grad():\n",
    "    for text_batch, user_batch, labels_batch in test_loader:\n",
    "        outputs = model(text_batch.unsqueeze(1), user_batch).squeeze()\n",
    "        loss = criterion(outputs, labels_batch.float())  # Compute the batch loss\n",
    "        test_loss += loss.item() * labels_batch.size(0)  # Accumulate total loss\n",
    "\n",
    "        preds = (outputs > 0.5).float()\n",
    "        all_preds.extend(preds.cpu().numpy())\n",
    "        all_labels.extend(labels_batch.cpu().numpy())\n",
    "\n",
    "# Calculate metrics\n",
    "accuracy = accuracy_score(all_labels, all_preds)\n",
    "precision = precision_score(all_labels, all_preds)\n",
    "recall = recall_score(all_labels, all_preds)\n",
    "f1 = f1_score(all_labels, all_preds)\n",
    "\n",
    "# Average loss over the dataset\n",
    "average_loss = test_loss / len(test_loader.dataset)\n",
    "\n",
    "# Print metrics\n",
    "print(f\"Test Loss: {average_loss:.4f}\")\n",
    "print(f\"Accuracy: {accuracy:.4f}\")\n",
    "print(f\"Precision: {precision:.4f}\")\n",
    "print(f\"Recall: {recall:.4f}\")\n",
    "print(f\"F1 Score: {f1:.4f}\")\n"
   ],
   "metadata": {
    "collapsed": false,
    "ExecuteTime": {
     "end_time": "2024-11-17T23:54:33.622398Z",
     "start_time": "2024-11-17T23:54:33.580978Z"
    }
   },
   "id": "8626eaff44b9af0a",
   "execution_count": 22
  }
 ],
 "metadata": {
  "kernelspec": {
   "display_name": "Python 3",
   "language": "python",
   "name": "python3"
  },
  "language_info": {
   "codemirror_mode": {
    "name": "ipython",
    "version": 2
   },
   "file_extension": ".py",
   "mimetype": "text/x-python",
   "name": "python",
   "nbconvert_exporter": "python",
   "pygments_lexer": "ipython2",
   "version": "2.7.6"
  }
 },
 "nbformat": 4,
 "nbformat_minor": 5
}
