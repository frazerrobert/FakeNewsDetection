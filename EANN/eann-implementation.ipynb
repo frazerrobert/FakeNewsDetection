{
 "cells": [
  {
   "cell_type": "code",
   "execution_count": 76,
   "id": "3ecf97e3",
   "metadata": {},
   "outputs": [
    {
     "name": "stdout",
     "output_type": "stream",
     "text": [
      "pip 24.2 from /home/frobert/.local/lib/python3.9/site-packages/pip (python 3.9)\r\n"
     ]
    }
   ],
   "source": [
    "# !pip install jieba gensim\n",
    "\n",
    "!pip --version"
   ]
  },
  {
   "cell_type": "code",
   "execution_count": 8,
   "id": "initial_id",
   "metadata": {
    "ExecuteTime": {
     "end_time": "2024-11-17T14:58:50.645356Z",
     "start_time": "2024-11-17T14:58:49.883957Z"
    }
   },
   "outputs": [],
   "source": [
    "import pandas as pd\n",
    "\n",
    "posts_df = pd.read_csv(\"./dataset/weibo_posts_merged_eann_df.csv\")"
   ]
  },
  {
   "cell_type": "code",
   "execution_count": 10,
   "id": "7671d5b794ab0484",
   "metadata": {
    "ExecuteTime": {
     "end_time": "2024-11-17T14:58:50.658406Z",
     "start_time": "2024-11-17T14:58:50.646475Z"
    }
   },
   "outputs": [],
   "source": [
    "import re\n",
    "import jieba\n",
    "\n",
    "def clean_text(text):\n",
    "    # Remove non-Chinese characters (keep Chinese, numbers, and basic punctuation)\n",
    "    text = re.sub(r\"[^\\u4e00-\\u9fffA-Za-z0-9,，.!?！？]\", \"\", text)\n",
    "    # Normalize spaces\n",
    "    text = re.sub(r\"\\s+\", \" \", text).strip()\n",
    "    return text\n",
    "\n",
    "def segment_text(text):\n",
    "    # Segment text using jieba\n",
    "    words = jieba.lcut(text)\n",
    "    # Join words back with spaces (useful for embeddings)\n",
    "    return ' '.join(words)\n",
    "\n",
    "# Load a list of Chinese stop words\n",
    "with open('./dataset/cn_stopwords.txt', encoding='utf-8') as f:\n",
    "    stopwords = set(f.read().splitlines())\n",
    "\n",
    "def remove_stopwords(text):\n",
    "    words = text.split()\n",
    "    filtered_words = [word for word in words if word not in stopwords]\n",
    "    return ' '.join(filtered_words)"
   ]
  },
  {
   "cell_type": "code",
   "execution_count": 11,
   "id": "766770c5bd5281af",
   "metadata": {
    "ExecuteTime": {
     "end_time": "2024-11-17T14:58:51.625638Z",
     "start_time": "2024-11-17T14:58:50.659040Z"
    }
   },
   "outputs": [
    {
     "name": "stderr",
     "output_type": "stream",
     "text": [
      "Building prefix dict from the default dictionary ...\n",
      "Dumping model to file cache /tmp/jieba.cache\n",
      "Loading model cost 0.606 seconds.\n",
      "Prefix dict has been built successfully.\n"
     ]
    }
   ],
   "source": [
    "posts_df['cleaned_text'] = posts_df['text'].fillna(\"\").apply(clean_text)\n",
    "posts_df['segmented_text'] = posts_df['cleaned_text'].apply(segment_text)\n",
    "posts_df['final_text'] = posts_df['segmented_text'].apply(remove_stopwords)"
   ]
  },
  {
   "cell_type": "code",
   "execution_count": 14,
   "id": "ccfc7e7ece71e973",
   "metadata": {
    "ExecuteTime": {
     "end_time": "2024-11-17T14:58:54.617791Z",
     "start_time": "2024-11-17T14:58:51.626225Z"
    }
   },
   "outputs": [],
   "source": [
    "from gensim.models import Doc2Vec\n",
    "from gensim.models.doc2vec import TaggedDocument\n",
    "\n",
    "# Prepare tagged documents\n",
    "documents = [TaggedDocument(words=text.split(), tags=[i]) for i, text in enumerate(posts_df['final_text'])]\n",
    "# Train the Doc2Vec model\n",
    "model = Doc2Vec(documents, vector_size=100, window=5, min_count=2, workers=4)\n",
    "\n",
    "# Add embeddings to the DataFrame\n",
    "posts_df['text_embeddings'] = posts_df['final_text'].apply(lambda x: model.infer_vector(x.split()))"
   ]
  },
  {
   "cell_type": "code",
   "execution_count": 16,
   "id": "92e7cbeda818050b",
   "metadata": {
    "ExecuteTime": {
     "end_time": "2024-11-17T14:58:59.244563Z",
     "start_time": "2024-11-17T14:58:54.623565Z"
    }
   },
   "outputs": [],
   "source": [
    "import os\n",
    "import pandas as pd\n",
    "import torch\n",
    "from torchvision import transforms\n",
    "from PIL import Image\n",
    "\n",
    "# Define image preprocessing transformations\n",
    "image_transforms = transforms.Compose([\n",
    "    transforms.Resize((224, 224)),  # Resize images to 224x224\n",
    "    transforms.ToTensor(),          # Convert images to tensors\n",
    "    transforms.Normalize(           # Normalize with ImageNet stats\n",
    "        mean=[0.485, 0.456, 0.406],\n",
    "        std=[0.229, 0.224, 0.225]\n",
    "    )\n",
    "])\n",
    "\n",
    "def get_placeholder_tensor():\n",
    "    return torch.zeros(3, 224, 224)  # RGB image of size 224x224\n",
    "\n",
    "def process_image(image_path):\n",
    "    try:\n",
    "        image = Image.open(image_path).convert('RGB')  # Ensure RGB format\n",
    "        return image_transforms(image)  # Apply transformations\n",
    "    except Exception as e:\n",
    "        print(f\"Error processing image {image_path}: {e}\")\n",
    "        return None\n",
    "\n",
    "def extract_images_from_folders(folder_paths, df, filename_column):\n",
    "    # Initialize an empty column for image tensors\n",
    "    df['image_tensor'] = None\n",
    "\n",
    "    # Combine all folder files into a dictionary for fast lookup\n",
    "    folder_files = {}\n",
    "    for folder in folder_paths:\n",
    "        for filename in os.listdir(folder):\n",
    "            folder_files[filename] = os.path.join(folder, filename)\n",
    "\n",
    "    # Process images and add them to the DataFrame\n",
    "    for idx, row in df.iterrows():\n",
    "        filename = row[filename_column]\n",
    "        if filename in folder_files:\n",
    "            image_path = folder_files[filename]\n",
    "            df.at[idx, 'image_tensor'] = process_image(image_path)\n",
    "        else:\n",
    "            df.at[idx, 'image_tensor'] = get_placeholder_tensor()\n",
    "            \n",
    "\n",
    "    return df\n",
    "\n",
    "BASE_PATH = \"/home/frobert/CS688/EANN/dataset\"\n",
    "\n",
    "folder_paths = [\n",
    "    BASE_PATH + \"/rumor_images\",\n",
    "    BASE_PATH + \"/nonrumor_images\"\n",
    "]\n",
    "\n",
    "posts_df[\"filename\"] = posts_df[\"picture_url\"].str.extract(r'/([^/]+)$')\n",
    "\n",
    "# Extract images and add tensors to DataFrame\n",
    "posts_df = extract_images_from_folders(folder_paths, posts_df, \"filename\")"
   ]
  },
  {
   "cell_type": "code",
   "execution_count": 17,
   "id": "cb781594430bd01f",
   "metadata": {
    "ExecuteTime": {
     "end_time": "2024-11-17T14:59:01.396234Z",
     "start_time": "2024-11-17T14:59:01.369622Z"
    }
   },
   "outputs": [
    {
     "name": "stdout",
     "output_type": "stream",
     "text": [
      "Unique shapes in text embeddings: [torch.Size([100])]\n",
      "Unique shapes in image tensors: [torch.Size([3, 224, 224])]\n"
     ]
    }
   ],
   "source": [
    "# Check if all text embeddings have the same shape\n",
    "text_shapes = posts_df['text_embeddings'].apply(lambda x: torch.tensor(x).shape).unique()\n",
    "print(\"Unique shapes in text embeddings:\", text_shapes)\n",
    "\n",
    "# Check if all image tensors have the same shape\n",
    "image_shapes = posts_df['image_tensor'].apply(lambda x: x.shape if isinstance(x, torch.Tensor) else None).unique()\n",
    "print(\"Unique shapes in image tensors:\", image_shapes)\n"
   ]
  },
  {
   "cell_type": "code",
   "execution_count": 18,
   "id": "26fc8fa81b514c56",
   "metadata": {
    "ExecuteTime": {
     "end_time": "2024-11-17T14:59:01.399569Z",
     "start_time": "2024-11-17T14:59:01.397074Z"
    }
   },
   "outputs": [],
   "source": [
    "from torch.utils.data import Dataset\n",
    "\n",
    "class MultiModalDataset(Dataset):\n",
    "    def __init__(self, dataframe):\n",
    "        self.data = dataframe\n",
    "\n",
    "    def __len__(self):\n",
    "        return len(self.data)\n",
    "\n",
    "    def __getitem__(self, idx):\n",
    "        row = self.data.iloc[idx]\n",
    "\n",
    "        # Extract text embeddings and convert to tensor\n",
    "        text_embedding = torch.tensor(row['text_embeddings'], dtype=torch.float32)\n",
    "\n",
    "        # Extract image tensor\n",
    "        image_tensor = row['image_tensor']  # Already a tensor\n",
    "\n",
    "        # Extract label\n",
    "        label = torch.tensor(row['label'], dtype=torch.long)\n",
    "\n",
    "        return text_embedding, image_tensor, label\n"
   ]
  },
  {
   "cell_type": "code",
   "execution_count": 35,
   "id": "39c2263ef72b537b",
   "metadata": {
    "ExecuteTime": {
     "end_time": "2024-11-17T15:02:21.321861Z",
     "start_time": "2024-11-17T15:02:21.309987Z"
    }
   },
   "outputs": [
    {
     "name": "stdout",
     "output_type": "stream",
     "text": [
      "Text Embedding Shape: torch.Size([32, 100])\n",
      "Image Tensor Shape: torch.Size([32, 3, 224, 224])\n",
      "Label Shape: torch.Size([32])\n"
     ]
    }
   ],
   "source": [
    "from torch.utils.data import DataLoader, random_split\n",
    "\n",
    "# Define split ratios\n",
    "train_ratio = 0.7\n",
    "val_ratio = 0.15\n",
    "test_ratio = 0.15\n",
    "\n",
    "# Ensure the ratios sum to 1.0\n",
    "assert train_ratio + val_ratio + test_ratio == 1.0, \"Ratios must sum to 1.0\"\n",
    "\n",
    "# Create Dataset\n",
    "dataset = MultiModalDataset(posts_df)\n",
    "\n",
    "# Compute split sizes\n",
    "train_size = int(train_ratio * len(dataset))\n",
    "val_size = int(val_ratio * len(dataset))\n",
    "test_size = len(dataset) - train_size - val_size\n",
    "\n",
    "# Split dataset\n",
    "train_dataset, val_dataset, test_dataset = random_split(dataset, [train_size, val_size, test_size])\n",
    "\n",
    "# Create DataLoaders\n",
    "batch_size = 32\n",
    "train_loader = DataLoader(train_dataset, batch_size=batch_size, shuffle=True)\n",
    "val_loader = DataLoader(val_dataset, batch_size=batch_size, shuffle=False)\n",
    "test_loader = DataLoader(test_dataset, batch_size=batch_size, shuffle=False)\n",
    "\n",
    "# Example: Iterate through the train DataLoader\n",
    "for text_emb, img_tensor, label in train_loader:\n",
    "    print(\"Text Embedding Shape:\", text_emb.shape)\n",
    "    print(\"Image Tensor Shape:\", img_tensor.shape)\n",
    "    print(\"Label Shape:\", label.shape)\n",
    "    break\n"
   ]
  },
  {
   "cell_type": "code",
   "execution_count": 70,
   "id": "c25aabf9d1effaef",
   "metadata": {
    "ExecuteTime": {
     "end_time": "2024-11-17T15:02:28.883898Z",
     "start_time": "2024-11-17T15:02:28.880222Z"
    }
   },
   "outputs": [],
   "source": [
    "import torch\n",
    "import torch.nn as nn\n",
    "import torch.nn.functional as F\n",
    "from torchvision.models import resnet18\n",
    "from torchvision.models import vgg19\n",
    "\n",
    "class TextFeatureExtractor(nn.Module):\n",
    "    def __init__(self, input_dim, output_dim):\n",
    "        super(TextFeatureExtractor, self).__init__()\n",
    "        self.fc = nn.Sequential(\n",
    "            nn.Linear(input_dim, 128),\n",
    "            nn.BatchNorm1d(128),  # Add BatchNorm\n",
    "            nn.ReLU(),\n",
    "            nn.Dropout(0.5),\n",
    "            nn.Linear(128, output_dim)\n",
    "        )\n",
    "\n",
    "    def forward(self, x):\n",
    "        # Apply fully connected block\n",
    "        x = self.fc(x)\n",
    "        return x\n",
    "\n",
    "class ImageFeatureExtractor(nn.Module):\n",
    "    def __init__(self, output_dim):\n",
    "        super(ImageFeatureExtractor, self).__init__()\n",
    "        vgg = vgg19(pretrained=True)\n",
    "        self.features = vgg.features\n",
    "#         resnet = resnet18(pretrained=True)\n",
    "#         self.features = nn.Sequential(*list(resnet.children())[:-1])\n",
    "        self.fc = nn.Sequential(\n",
    "            nn.Linear(512, 256),\n",
    "            nn.ReLU(),\n",
    "            nn.Dropout(0.5),\n",
    "            nn.Linear(256, output_dim)\n",
    "        )\n",
    "\n",
    "    def forward(self, x):\n",
    "        x = self.features(x)\n",
    "        x = torch.flatten(x, 1)  # Flatten the feature maps\n",
    "        return self.fc(x)\n",
    "\n",
    "\n",
    "class FakeNewsDetector(nn.Module):\n",
    "    def __init__(self, text_feature_dim, image_feature_dim, combined_dim, num_classes=2):\n",
    "        super(FakeNewsDetector, self).__init__()\n",
    "        self.text_extractor = TextFeatureExtractor(input_dim=text_feature_dim, output_dim=combined_dim // 2)\n",
    "        self.image_extractor = ImageFeatureExtractor(output_dim=combined_dim // 2)\n",
    "        self.fc = nn.Sequential(\n",
    "            nn.Linear(combined_dim, 128),\n",
    "            nn.ReLU(),\n",
    "            nn.Dropout(0.5),\n",
    "            nn.Linear(128, num_classes)\n",
    "        )\n",
    "\n",
    "    def forward(self, text, image):\n",
    "        text_features = self.text_extractor(text)\n",
    "        image_features = self.image_extractor(image)\n",
    "        combined_features = torch.cat((text_features, image_features), dim=1)\n",
    "        return self.fc(combined_features)\n"
   ]
  },
  {
   "cell_type": "code",
   "execution_count": 72,
   "id": "4eda24ff580f3911",
   "metadata": {
    "ExecuteTime": {
     "end_time": "2024-11-17T15:02:37.557658Z",
     "start_time": "2024-11-17T15:02:36.755780Z"
    }
   },
   "outputs": [],
   "source": [
    "import torch.optim as optim\n",
    "\n",
    "# Model Parameters\n",
    "TEXT_FEATURE_DIM = 100\n",
    "IMAGE_FEATURE_DIM = 3\n",
    "COMBINED_DIM = 256\n",
    "\n",
    "# Training Parameters\n",
    "LEARNING_RATE = 0.001\n",
    "\n",
    "# Define loss function\n",
    "criterion = nn.CrossEntropyLoss()\n",
    "\n",
    "# Initialize model with parameterized dimensions\n",
    "model = FakeNewsDetector(\n",
    "    text_feature_dim=TEXT_FEATURE_DIM, \n",
    "    image_feature_dim=IMAGE_FEATURE_DIM, \n",
    "    combined_dim=COMBINED_DIM\n",
    ")\n",
    "\n",
    "# Optimizer with parameterized learning rate\n",
    "optimizer = optim.Adam(model.parameters(), lr=LEARNING_RATE, weight_decay=1e-4)\n",
    "\n",
    "# Device Configuration\n",
    "device = torch.device(\"cuda\" if torch.cuda.is_available() else \"cpu\")\n",
    "model = model.to(device)\n"
   ]
  },
  {
   "cell_type": "code",
   "execution_count": 73,
   "id": "7e9f541ebf8d073e",
   "metadata": {
    "ExecuteTime": {
     "end_time": "2024-11-17T15:03:23.765933Z",
     "start_time": "2024-11-17T15:02:37.558930Z"
    }
   },
   "outputs": [
    {
     "name": "stderr",
     "output_type": "stream",
     "text": [
      "Training Progress:   1%|          | 1/100 [00:05<08:57,  5.43s/epoch]"
     ]
    },
    {
     "name": "stdout",
     "output_type": "stream",
     "text": [
      "Epoch 1/100, Train Loss: 0.5709, Train Accuracy: 0.6741, Val Loss: 0.5705, Val Accuracy: 0.6959\n"
     ]
    },
    {
     "name": "stderr",
     "output_type": "stream",
     "text": [
      "Training Progress:  11%|█         | 11/100 [00:52<07:29,  5.05s/epoch]"
     ]
    },
    {
     "name": "stdout",
     "output_type": "stream",
     "text": [
      "Epoch 11/100, Train Loss: 0.5236, Train Accuracy: 0.7417, Val Loss: 0.5271, Val Accuracy: 0.7313\n"
     ]
    },
    {
     "name": "stderr",
     "output_type": "stream",
     "text": [
      "Training Progress:  21%|██        | 21/100 [01:34<05:34,  4.24s/epoch]"
     ]
    },
    {
     "name": "stdout",
     "output_type": "stream",
     "text": [
      "Epoch 21/100, Train Loss: 0.5102, Train Accuracy: 0.7523, Val Loss: 0.4934, Val Accuracy: 0.7482\n"
     ]
    },
    {
     "name": "stderr",
     "output_type": "stream",
     "text": [
      "Training Progress:  31%|███       | 31/100 [02:25<05:29,  4.77s/epoch]"
     ]
    },
    {
     "name": "stdout",
     "output_type": "stream",
     "text": [
      "Epoch 31/100, Train Loss: 0.4969, Train Accuracy: 0.7574, Val Loss: 0.4879, Val Accuracy: 0.7468\n"
     ]
    },
    {
     "name": "stderr",
     "output_type": "stream",
     "text": [
      "Training Progress:  41%|████      | 41/100 [03:15<04:24,  4.49s/epoch]"
     ]
    },
    {
     "name": "stdout",
     "output_type": "stream",
     "text": [
      "Epoch 41/100, Train Loss: 0.4824, Train Accuracy: 0.7689, Val Loss: 0.4772, Val Accuracy: 0.7553\n"
     ]
    },
    {
     "name": "stderr",
     "output_type": "stream",
     "text": [
      "Training Progress:  51%|█████     | 51/100 [03:58<03:25,  4.20s/epoch]"
     ]
    },
    {
     "name": "stdout",
     "output_type": "stream",
     "text": [
      "Epoch 51/100, Train Loss: 0.4782, Train Accuracy: 0.7653, Val Loss: 0.4627, Val Accuracy: 0.7581\n"
     ]
    },
    {
     "name": "stderr",
     "output_type": "stream",
     "text": [
      "Training Progress:  61%|██████    | 61/100 [04:47<03:00,  4.63s/epoch]"
     ]
    },
    {
     "name": "stdout",
     "output_type": "stream",
     "text": [
      "Epoch 61/100, Train Loss: 0.4615, Train Accuracy: 0.7738, Val Loss: 0.4791, Val Accuracy: 0.7553\n"
     ]
    },
    {
     "name": "stderr",
     "output_type": "stream",
     "text": [
      "Training Progress:  71%|███████   | 71/100 [05:39<02:26,  5.05s/epoch]"
     ]
    },
    {
     "name": "stdout",
     "output_type": "stream",
     "text": [
      "Epoch 71/100, Train Loss: 0.4639, Train Accuracy: 0.7671, Val Loss: 0.4681, Val Accuracy: 0.7595\n"
     ]
    },
    {
     "name": "stderr",
     "output_type": "stream",
     "text": [
      "Training Progress:  81%|████████  | 81/100 [06:29<01:34,  4.97s/epoch]"
     ]
    },
    {
     "name": "stdout",
     "output_type": "stream",
     "text": [
      "Epoch 81/100, Train Loss: 0.4566, Train Accuracy: 0.7759, Val Loss: 0.4773, Val Accuracy: 0.7496\n"
     ]
    },
    {
     "name": "stderr",
     "output_type": "stream",
     "text": [
      "Training Progress:  91%|█████████ | 91/100 [07:16<00:45,  5.06s/epoch]"
     ]
    },
    {
     "name": "stdout",
     "output_type": "stream",
     "text": [
      "Epoch 91/100, Train Loss: 0.4397, Train Accuracy: 0.7886, Val Loss: 0.4661, Val Accuracy: 0.7624\n"
     ]
    },
    {
     "name": "stderr",
     "output_type": "stream",
     "text": [
      "Training Progress: 100%|██████████| 100/100 [07:58<00:00,  4.78s/epoch]\n"
     ]
    }
   ],
   "source": [
    "import matplotlib.pyplot as plt\n",
    "from tqdm import tqdm\n",
    "\n",
    "# Store losses for plotting\n",
    "train_losses = []\n",
    "val_losses = []\n",
    "\n",
    "num_epochs = 100\n",
    "\n",
    "for epoch in tqdm(range(num_epochs), desc=\"Training Progress\", unit=\"epoch\"):\n",
    "    # Training Phase\n",
    "    model.train()\n",
    "    train_loss = 0\n",
    "    correct = 0\n",
    "    total = 0\n",
    "\n",
    "    for text_emb, img_tensor, labels in train_loader:\n",
    "        text_emb, img_tensor, labels = text_emb.to(device), img_tensor.to(device), labels.to(device)\n",
    "\n",
    "        # Forward pass\n",
    "        outputs = model(text_emb, img_tensor)\n",
    "        loss = criterion(outputs, labels)\n",
    "\n",
    "        # Backward pass\n",
    "        optimizer.zero_grad()\n",
    "        loss.backward()\n",
    "        optimizer.step()\n",
    "\n",
    "        # Track training metrics\n",
    "        train_loss += loss.item()\n",
    "        _, predicted = outputs.max(1)\n",
    "        correct += (predicted == labels).sum().item()\n",
    "        total += labels.size(0)\n",
    "\n",
    "    avg_train_loss = train_loss / len(train_loader)\n",
    "    train_losses.append(avg_train_loss)\n",
    "    train_accuracy = correct / total\n",
    "\n",
    "    # Validation Phase\n",
    "    model.eval()\n",
    "    val_loss = 0\n",
    "    correct = 0\n",
    "    total = 0\n",
    "\n",
    "    with torch.no_grad():\n",
    "        for text_emb, img_tensor, labels in val_loader:\n",
    "            text_emb, img_tensor, labels = text_emb.to(device), img_tensor.to(device), labels.to(device)\n",
    "\n",
    "            # Forward pass\n",
    "            outputs = model(text_emb, img_tensor)\n",
    "            loss = criterion(outputs, labels)\n",
    "\n",
    "            # Track validation metrics\n",
    "            val_loss += loss.item()\n",
    "            _, predicted = outputs.max(1)\n",
    "            correct += (predicted == labels).sum().item()\n",
    "            total += labels.size(0)\n",
    "\n",
    "    avg_val_loss = val_loss / len(val_loader)\n",
    "    val_losses.append(avg_val_loss)\n",
    "    val_accuracy = correct / total\n",
    "\n",
    "    if epoch % 10 == 0:\n",
    "        print(f\"Epoch {epoch + 1}/{num_epochs}, \"\n",
    "              f\"Train Loss: {avg_train_loss:.4f}, Train Accuracy: {train_accuracy:.4f}, \"\n",
    "              f\"Val Loss: {avg_val_loss:.4f}, Val Accuracy: {val_accuracy:.4f}\")\n"
   ]
  },
  {
   "cell_type": "code",
   "execution_count": 78,
   "id": "2b94fdc1",
   "metadata": {},
   "outputs": [
    {
     "data": {
      "image/png": "[encoded data removed]",
      "text/plain": [
       "<Figure size 720x432 with 1 Axes>"
      ]
     },
     "metadata": {
      "needs_background": "light"
     },
     "output_type": "display_data"
    }
   ],
   "source": [
    "import matplotlib.pyplot as plt\n",
    "\n",
    "# Plot training and validation loss\n",
    "plt.figure(figsize=(10, 6))\n",
    "plt.plot(range(1, num_epochs + 1), train_losses, label=\"Training Loss\")\n",
    "plt.plot(range(1, num_epochs + 1), val_losses, label=\"Validation Loss\")\n",
    "plt.xlabel(\"Epochs\")\n",
    "plt.ylabel(\"Loss\")\n",
    "plt.title(\"Training and Validation Loss\")\n",
    "plt.legend()\n",
    "plt.grid()\n",
    "\n",
    "# Save the plot as an image file\n",
    "plt.savefig(\"training_validation_loss.png\", dpi=300, bbox_inches='tight')  # Save with high resolution\n",
    "\n",
    "# Show the plot\n",
    "plt.show()\n"
   ]
  },
  {
   "cell_type": "code",
   "execution_count": 75,
   "id": "4f70646ea0fa39c5",
   "metadata": {},
   "outputs": [
    {
     "name": "stdout",
     "output_type": "stream",
     "text": [
      "Test Accuracy: 0.7983\n"
     ]
    }
   ],
   "source": [
    "# Evaluate the model\n",
    "model.eval()\n",
    "correct = 0\n",
    "total = 0\n",
    "\n",
    "with torch.no_grad():\n",
    "    for text_emb, img_tensor, labels in test_loader:\n",
    "        text_emb, img_tensor, labels = text_emb.to(device), img_tensor.to(device), labels.to(device)\n",
    "        outputs = model(text_emb, img_tensor)\n",
    "        _, predicted = outputs.max(1)\n",
    "        correct += (predicted == labels).sum().item()\n",
    "        total += labels.size(0)\n",
    "\n",
    "print(f\"Test Accuracy: {correct / total:.4f}\")\n"
   ]
  }
 ],
 "metadata": {
  "kernelspec": {
   "display_name": "Python 3 (ipykernel)",
   "language": "python",
   "name": "python3"
  },
  "language_info": {
   "codemirror_mode": {
    "name": "ipython",
    "version": 3
   },
   "file_extension": ".py",
   "mimetype": "text/x-python",
   "name": "python",
   "nbconvert_exporter": "python",
   "pygments_lexer": "ipython3",
   "version": "3.9.9"
  }
 },
 "nbformat": 4,
 "nbformat_minor": 5
}
